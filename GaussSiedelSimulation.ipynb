{
  "nbformat": 4,
  "nbformat_minor": 0,
  "metadata": {
    "colab": {
      "provenance": []
    },
    "kernelspec": {
      "name": "python3",
      "display_name": "Python 3"
    },
    "language_info": {
      "name": "python"
    }
  },
  "cells": [
    {
      "cell_type": "code",
      "execution_count": 1,
      "metadata": {
        "id": "Xx-XTBXuBtCc"
      },
      "outputs": [],
      "source": [
        "def isDiagonallyDominant(A):         # function to check if matrix is diagonally dominant\n",
        "    for i in range(len(A)):          # iterate through each sublist\n",
        "        sums = 0                     # initialising sum\n",
        "        for j in range(len(A[0])):   # iterate through each items of sublist\n",
        "            if j != i:               # avoid diagonal element\n",
        "                sums += abs(A[i][j]) # sum over all elements except diagonal one\n",
        "        if abs(A[i][i]) <= sums:     # checks if it is not diagonally dominant\n",
        "            return False   \n",
        "    return True                      # output"
      ]
    },
    {
      "cell_type": "code",
      "source": [
        "from itertools import permutations                # to use permutation\n",
        "def DiagDomMat(B):                                # function to get diagonally dominant matrix\n",
        "    n = len(B)                       \n",
        "    l = list(map(list,permutations(range(0,n))))  # list of all the possible arrangements of indices\n",
        "    for i in l:                                   # iterate through each sublist\n",
        "        A = []                                    # initializing empty list\n",
        "        for j in i:                               # iterate through each element of sublist\n",
        "            A.append(B[j])                        # list of permutated rows\n",
        "        if isDiagonallyDominant(A):               # checks if the new matrix is diagonally dominant\n",
        "            return A                             \n",
        "    return \"No Diagonally Dominant Matrix\"        # if not returns message"
      ],
      "metadata": {
        "id": "VHnGjahaByym"
      },
      "execution_count": 2,
      "outputs": []
    },
    {
      "cell_type": "code",
      "source": [
        "def siedel(A, x, b, n):                           # function for calculating iterates\n",
        "    for i in range(n):                            \n",
        "        d = b[i]                                  # initializing temporary value \n",
        "        for j in range(n):\n",
        "            if (i != j):                          # elemnt will be zero in case of i=j\n",
        "                d -= A[i][j]*x[j]\n",
        "        x[i] = d/A[i][i]                          # calculating x \n",
        "    return x"
      ],
      "metadata": {
        "id": "u6kRGF-wBzOm"
      },
      "execution_count": 3,
      "outputs": []
    },
    {
      "cell_type": "code",
      "source": [
        "n, m = map(int, input((\"Enter the no of rows and columns: \")).split())          # taking input of number of rows and columns\n",
        "print(\"Enter the coefficient matrix: \")                                         # getting the L.H.S matrix\n",
        "A = list(list(map(int, input().split())) for i in range(n))                     # creating A matrix\n",
        "b = list(map(int, input('Enter the R.H.S vector: ').split()))                   # getting R.H.S matrix\n",
        "C = A.copy()                                                                    # keeping a copy of A\n",
        "if isDiagonallyDominant(A):                                                     # checking if matrix is diagonally dominant\n",
        "    print(\"As the matrix is diagonally dominant, the gauss-siedel method converges to exact solution.\")\n",
        "else:\n",
        "    print(\"The matrix is not diagonally dominant, so it does not converge to exact solution.\")\n",
        "    A = DiagDomMat(A)                                                           # changes the matrix into diagonally dominant\n",
        "    print(\"The diagonally dominant matrix is: \",A)\n",
        "\n",
        "c = []                                                                          # arranging R.H.S according to the diagonally dominant matrix\n",
        "for i in range(n):\n",
        "    for j in range(n):\n",
        "        if A[i][0] == C[j][0]:\n",
        "            c.append(b[j])\n",
        "b = c                                                                           # assigning new arranged R.H.S to b matrix\n",
        "x = list(map(float, input('Enter the initial guess: ').split()))                  # initial guess( given )\n",
        "x0 = x                                                                          # keeping a copy\n",
        "if n != m:\n",
        "    print(\"A must be a square matrix.\")                                         # only applicable if matrix is square\n",
        "else:\n",
        "    eps = 10^(-4)                                                               # tolerance error\n",
        "    maxiter =  5                                                             # maximum no of iterations\n",
        "    iter = 1\n",
        "    while iter <= maxiter:\n",
        "        for i in range(n):\n",
        "            x = siedel(A, x, b, n) \n",
        "            print(\"The vector: \", x0)\n",
        "                                                  # calling siedel function\n",
        "        c = 0                       \n",
        "        for i in range(n):                                                      \n",
        "            if abs(x[i]-x0[i]) < eps:                                           # norm is less than tolerance\n",
        "                c += 1                                                          # increment of c \n",
        "        if c == n:                                                              # if all the x converges to exact value\n",
        "            break                                                               # while loop breaks\n",
        "        iter += 1                                                               # count the number of iterations\n",
        "    if iter > maxiter:     \n",
        "        print(\"No. of iterations exceeded.\")                                      \n",
        "v = []\n",
        "for i in x:\n",
        "    v.append(round(i))\n",
        "print(\"The Solution Vector is: \", v)                # prints the solution vector"
      ],
      "metadata": {
        "colab": {
          "base_uri": "https://localhost:8080/"
        },
        "id": "FjaSpWJaB2ia",
        "outputId": "0139bdbc-0122-43ce-9d48-05f5f2f076f5"
      },
      "execution_count": 4,
      "outputs": [
        {
          "output_type": "stream",
          "name": "stdout",
          "text": [
            "Enter the no of rows and columns: 2 2\n",
            "Enter the coefficient matrix: \n",
            "1 -5\n",
            "7 -1\n",
            "Enter the R.H.S vector: -4 6\n",
            "The matrix is not diagonally dominant, so it does not converge to exact solution.\n",
            "The diagonally dominant matrix is:  [[7, -1], [1, -5]]\n",
            "Enter the initial guess: 0 0\n",
            "The vector:  [0.8571428571428571, 0.9714285714285713]\n",
            "The vector:  [0.9959183673469388, 0.9991836734693879]\n",
            "The vector:  [0.9998833819241983, 0.9999766763848397]\n",
            "The vector:  [0.9999966680549771, 0.9999993336109954]\n",
            "The vector:  [0.9999999048015707, 0.9999999809603141]\n",
            "The vector:  [0.9999999972800449, 0.999999999456009]\n",
            "The vector:  [0.999999999922287, 0.9999999999844574]\n",
            "The vector:  [0.9999999999977797, 0.9999999999995559]\n",
            "The vector:  [0.9999999999999366, 0.9999999999999873]\n",
            "The vector:  [0.9999999999999982, 0.9999999999999997]\n",
            "No. of iterations exceeded.\n",
            "The Solution Vector is:  [1, 1]\n"
          ]
        }
      ]
    }
  ]
}